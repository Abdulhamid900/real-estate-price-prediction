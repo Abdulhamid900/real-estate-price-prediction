{
 "cells": [
  {
   "cell_type": "code",
   "execution_count": null,
   "metadata": {},
   "outputs": [],
   "source": [
    "# Import necessary libraries\n",
    "import numpy as np\n",
    "import pandas as pd \n",
    "import matplotlib as plt\n",
    "df = pd.read_csv('input.csv')"
   ]
  },
  {
   "cell_type": "code",
   "execution_count": null,
   "metadata": {},
   "outputs": [],
   "source": [
    "#Average prices of apartments and houses in the Belgian provinces\n",
    "df1 = df.groupby(['province','building_type'])['price'].median()"
   ]
  },
  {
   "cell_type": "code",
   "execution_count": null,
   "metadata": {},
   "outputs": [],
   "source": [
    "#chart Average prices\n",
    "df1.unstack(['building_type']).plot.bar(color=('steelblue','red'),\n",
    "ylabel = 'Price €', title='Average prices of apartments and houses in the Belgian provinces')"
   ]
  },
  {
   "cell_type": "code",
   "execution_count": null,
   "metadata": {},
   "outputs": [],
   "source": [
    "#Number of apartments and houses for sale in Belgium\n",
    "df2 = df.groupby(['province','building_type']).size()"
   ]
  },
  {
   "cell_type": "code",
   "execution_count": null,
   "metadata": {},
   "outputs": [],
   "source": [
    "#chart Number of apartments and houses for sale in Belgium\n",
    "df2.unstack(['building_type']).plot.bar(color=('darkred','coral'),\n",
    "ylabel = 'Number', title='Number of apartments and houses for sale in Belgium')"
   ]
  }
 ],
 "metadata": {
  "kernelspec": {
   "display_name": "Python 3.10.7 64-bit",
   "language": "python",
   "name": "python3"
  },
  "language_info": {
   "codemirror_mode": {
    "name": "ipython",
    "version": 3
   },
   "file_extension": ".py",
   "mimetype": "text/x-python",
   "name": "python",
   "nbconvert_exporter": "python",
   "pygments_lexer": "ipython3",
   "version": "3.10.7"
  },
  "orig_nbformat": 4,
  "vscode": {
   "interpreter": {
    "hash": "5f79f8960d6dedbddfdd5036fe6150b0e398b172e679338c88a6d73d66b5e0f7"
   }
  }
 },
 "nbformat": 4,
 "nbformat_minor": 2
}
