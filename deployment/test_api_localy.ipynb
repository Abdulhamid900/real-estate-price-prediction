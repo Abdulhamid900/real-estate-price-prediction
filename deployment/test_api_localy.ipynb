{
 "cells": [
  {
   "cell_type": "code",
   "execution_count": 2,
   "metadata": {},
   "outputs": [
    {
     "name": "stdout",
     "output_type": "stream",
     "text": [
      "{\"prediction\":152402.1}\n",
      "\n"
     ]
    }
   ],
   "source": [
    "#Import necessary libraries:\n",
    "\n",
    "import requests\n",
    "\n",
    "#Dictionary for test api locally:\n",
    "\n",
    "dic = {'zip':9000 , 'province':'Gent' , 'building_type':'appartment' , 'bedroom':1 , 'construction_Year':1970 ,\n",
    "'heating_type':'gas' , 'land_surface':50}\n",
    "\n",
    "#Test the local api:\n",
    "\n",
    "test =  requests.post('http://127.0.0.1:5000/api', data=dic)\n",
    "print(test.text)"
   ]
  }
 ],
 "metadata": {
  "kernelspec": {
   "display_name": "Python 3.10.7 64-bit",
   "language": "python",
   "name": "python3"
  },
  "language_info": {
   "codemirror_mode": {
    "name": "ipython",
    "version": 3
   },
   "file_extension": ".py",
   "mimetype": "text/x-python",
   "name": "python",
   "nbconvert_exporter": "python",
   "pygments_lexer": "ipython3",
   "version": "3.10.7"
  },
  "orig_nbformat": 4,
  "vscode": {
   "interpreter": {
    "hash": "5f79f8960d6dedbddfdd5036fe6150b0e398b172e679338c88a6d73d66b5e0f7"
   }
  }
 },
 "nbformat": 4,
 "nbformat_minor": 2
}
